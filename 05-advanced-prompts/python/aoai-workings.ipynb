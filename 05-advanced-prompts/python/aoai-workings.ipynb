{
 "cells": [
  {
   "cell_type": "code",
   "execution_count": 2,
   "id": "9815423b",
   "metadata": {},
   "outputs": [],
   "source": [
    "import os\n",
    "from openai import OpenAI\n",
    "import openai\n",
    "from dotenv import load_dotenv\n",
    "load_dotenv()\n",
    "\n",
    "client = OpenAI(\n",
    "  api_key=os.environ['OPENAI_API_KEY'],  # this is also the default, it can be omitted\n",
    "  )"
   ]
  },
  {
   "cell_type": "code",
   "execution_count": 4,
   "id": "ebb6ad1c",
   "metadata": {},
   "outputs": [],
   "source": [
    "os.getcwd()"
   ]
  },
  {
   "cell_type": "code",
   "execution_count": 7,
   "id": "6338fcf2",
   "metadata": {},
   "outputs": [
    {
     "name": "stdout",
     "output_type": "stream",
     "text": [
      "from flask import Flask, request\n",
      "\n",
      "app = Flask(__name__)\n",
      "\n",
      "@app.route('/')\n",
      "def hello():\n",
      "    name = request.args.get('name', 'World')\n",
      "    return f'Hello, {name}!'\n",
      "\n",
      "if __name__ == '__main__':\n",
      "    app.run()\n"
     ]
    }
   ],
   "source": [
    "f = open(\"aoai_assignment.py\", \"r\")\n",
    "code = f.read()\n",
    "print(code)"
   ]
  },
  {
   "cell_type": "code",
   "execution_count": 10,
   "id": "2e888912",
   "metadata": {},
   "outputs": [
    {
     "name": "stdout",
     "output_type": "stream",
     "text": [
      "To add input validation using Flask-WTF, you can modify the code as follows:\n",
      "\n",
      "```python\n",
      "from flask import Flask, request\n",
      "from flask_wtf import FlaskForm\n",
      "from wtforms import StringField\n",
      "from wtforms.validators import DataRequired\n",
      "from flask_wtf.csrf import CSRFProtect\n",
      "\n",
      "app = Flask(__name__)\n",
      "app.config['SECRET_KEY'] = 'your_secret_key'\n",
      "csrf = CSRFProtect(app)\n",
      "\n",
      "class NameForm(FlaskForm):\n",
      "    name = StringField('name', validators=[DataRequired()])\n",
      "\n",
      "@app.route('/', methods=['GET', 'POST'])\n",
      "def hello():\n",
      "    form = NameForm()\n",
      "    if form.validate_on_submit():\n",
      "        name = form.name.data\n",
      "        return f'Hello, {name}!'\n",
      "    return 'Invalid input'\n",
      "\n",
      "if __name__ == '__main__':\n",
      "    app.run()\n",
      "```\n",
      "\n",
      "In this updated code:\n",
      "1. We import `FlaskForm` from `flask_wtf` and create a form class `NameForm` with a `StringField` for the name input.\n",
      "2. We add a `DataRequired` validator to the `name` field to ensure that it is not empty.\n",
      "3. We create an instance of `NameForm` in the `hello` function and check if the form is valid using `form.validate_on_submit()`.\n",
      "4. If the form is valid, we retrieve the name input from `form.name.data` and return the greeting message. If the form is not valid, we return an error message.\n",
      "5. We also add CSRF protection to the app using `CSRFProtect` to prevent cross-site request forgery attacks.\n",
      "\n",
      "By using Flask-WTF and adding input validation, you can prevent malicious input from being processed by the server and ensure that only valid input is accepted.\n"
     ]
    }
   ],
   "source": [
    "response = client.chat.completions.create(\n",
    "    model='gpt-3.5-turbo', \n",
    "    messages=[\n",
    "        {\"role\": \"user\", \"content\": f\"Add input validation to prevent malicious input from being processed by the server. You can use a library like flask-wtf to validate user input and sanitize it before processing on this code: {code}\"},\n",
    "    ],\n",
    "    temperature=0\n",
    ")\n",
    "print(response.choices[0].message.content)\n",
    "output_1 = response.choices[0].message.content"
   ]
  },
  {
   "cell_type": "code",
   "execution_count": 12,
   "id": "33d896ff",
   "metadata": {},
   "outputs": [
    {
     "name": "stdout",
     "output_type": "stream",
     "text": [
      "\n",
      "Additionally, to implement error handling and provide meaningful error messages to the user, you can modify the code as follows:\n",
      "\n",
      "```python\n",
      "from flask import Flask, request, jsonify\n",
      "from flask_wtf import FlaskForm\n",
      "from wtforms import StringField\n",
      "from wtforms.validators import DataRequired\n",
      "from flask_wtf.csrf import CSRFProtect\n",
      "\n",
      "app = Flask(__name__)\n",
      "app.config['SECRET_KEY'] = 'your_secret_key'\n",
      "csrf = CSRFProtect(app)\n",
      "\n",
      "class NameForm(FlaskForm):\n",
      "    name = StringField('name', validators=[DataRequired()])\n",
      "\n",
      "@app.route('/', methods=['GET', 'POST'])\n",
      "def hello():\n",
      "    form = NameForm()\n",
      "    if form.validate_on_submit():\n",
      "        name = form.name.data\n",
      "        return jsonify({'message': f'Hello, {name}!'})\n",
      "    return jsonify({'error': 'Invalid input'})\n",
      "\n",
      "@app.errorhandler(400)\n",
      "def bad_request(e):\n",
      "    return jsonify({'error': 'Bad request. Please check your input.'}), 400\n",
      "\n",
      "if __name__ == '__main__':\n",
      "    app.run()\n",
      "```\n",
      "\n",
      "In this updated code:\n",
      "1. We import `jsonify` from Flask to return JSON responses.\n",
      "2. We modify the return statements in the `hello` function to return JSON responses with error messages.\n",
      "3. We add an `@app.errorhandler(400)` decorator to handle bad request errors and return a JSON response with a meaningful error message.\n",
      "4. If the form validation fails, a 400 error will be raised and the `bad_request` function will handle it by returning a JSON response with an error message.\n",
      "\n",
      "By implementing error handling and returning JSON responses, you can provide users with clear and informative error messages when there are issues with their input. This can improve the user experience and help users understand how to correct their input.\n"
     ]
    }
   ],
   "source": [
    "response = client.chat.completions.create(\n",
    "    model='gpt-3.5-turbo', \n",
    "    messages=[\n",
    "        {\"role\": \"user\", \"content\": f\"Implement error handling to provide meaningful error messages to the user in case of errors. You can use the @app.errorhandler() decorator to handle exceptions and return an error response on this code: {output_1}\"},\n",
    "    ],\n",
    "    temperature=0\n",
    ")\n",
    "print(response.choices[0].message.content)"
   ]
  },
  {
   "cell_type": "code",
   "execution_count": null,
   "id": "d8b75a03",
   "metadata": {},
   "outputs": [],
   "source": []
  }
 ],
 "metadata": {
  "kernelspec": {
   "display_name": "Python 3 (ipykernel)",
   "language": "python",
   "name": "python3"
  },
  "language_info": {
   "codemirror_mode": {
    "name": "ipython",
    "version": 3
   },
   "file_extension": ".py",
   "mimetype": "text/x-python",
   "name": "python",
   "nbconvert_exporter": "python",
   "pygments_lexer": "ipython3",
   "version": "3.9.13"
  }
 },
 "nbformat": 4,
 "nbformat_minor": 5
}
